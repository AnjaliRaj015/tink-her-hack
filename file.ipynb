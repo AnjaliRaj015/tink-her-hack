{
 "cells": [
  {
   "cell_type": "code",
   "execution_count": 1,
   "id": "665a40ef",
   "metadata": {},
   "outputs": [
    {
     "name": "stdout",
     "output_type": "stream",
     "text": [
      "num lines: 17\n"
     ]
    }
   ],
   "source": [
    "import pandas as pd\n",
    "\n",
    "# read file by lines\n",
    "file_path = \"test2.txt\"\n",
    "f = open(file_path, encoding=\"utf8\")\n",
    "data = f.readlines()\n",
    "f.close()\n",
    "\n",
    "# sanity stats\n",
    "print('num lines: %s' %(len(data)))\n",
    "\n",
    "# parse text and create list of lists structure\n",
    "# remove first whatsapp info message\n",
    "dataset = data[1:]\n",
    "cleaned_data = []\n",
    "for line in dataset:\n",
    "\t# grab the info and cut it out\n",
    "\tdate = line.split(\",\")[0]\n",
    "\tline2 = line[len(date):]\n",
    "\ttime = line2.split(\"-\")[0][2:]\n",
    "\tline3 = line2[len(time):]\n",
    "\tname = line3.split(\":\")[0][4:]\n",
    "\tline4 = line3[len(name):]\n",
    "\tmessage = line4[6:-1] # strip newline charactor\n",
    "\n",
    "\t#print(date, time, name, message)\n",
    "\tcleaned_data.append([date, time, name, message])\n",
    "\n",
    "  \n",
    "df = pd.DataFrame(cleaned_data, columns = ['Date', 'Time', 'Name', 'Message']) \n",
    "\n",
    "# check formatting \n",
    "if 0:\n",
    "\tprint(df.head())\n",
    "\tprint(df.tail())\n",
    "\n",
    "# Save it!\n",
    "df.to_csv(r'test2.csv', index=False)"
   ]
  },
  {
   "cell_type": "code",
   "execution_count": null,
   "id": "5d6cd96d",
   "metadata": {},
   "outputs": [],
   "source": []
  }
 ],
 "metadata": {
  "kernelspec": {
   "display_name": "Python 3",
   "language": "python",
   "name": "python3"
  },
  "language_info": {
   "codemirror_mode": {
    "name": "ipython",
    "version": 3
   },
   "file_extension": ".py",
   "mimetype": "text/x-python",
   "name": "python",
   "nbconvert_exporter": "python",
   "pygments_lexer": "ipython3",
   "version": "3.8.8"
  }
 },
 "nbformat": 4,
 "nbformat_minor": 5
}
